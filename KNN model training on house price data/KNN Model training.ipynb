{
 "cells": [
  {
   "cell_type": "code",
   "execution_count": 1,
   "id": "64242040-82b2-4100-af2b-ee32a6f13c9e",
   "metadata": {},
   "outputs": [],
   "source": [
    "import pandas as pd\n",
    "import numpy as np\n",
    "import matplotlib.pyplot as plt\n",
    "import seaborn as sns\n",
    "from sklearn.model_selection import train_test_split\n",
    "from sklearn.preprocessing import StandardScaler\n",
    "from sklearn.neighbors import KNeighborsRegressor\n",
    "from sklearn.metrics import mean_squared_error, r2_score"
   ]
  },
  {
   "cell_type": "code",
   "execution_count": 2,
   "id": "07cd9c74-1fa1-4dd4-af8c-086c5d12b18d",
   "metadata": {},
   "outputs": [],
   "source": [
    "df = pd.read_csv(\"HousePrice_dataset.csv\")"
   ]
  },
  {
   "cell_type": "code",
   "execution_count": 8,
   "id": "6d99e4ea-9e19-4a1c-b1a7-bb09c05076d3",
   "metadata": {},
   "outputs": [
    {
     "name": "stdout",
     "output_type": "stream",
     "text": [
      "   Unnamed: 0 property_type     price     location       city  baths  \\\n",
      "0           0          Flat  10000000         G-10  Islamabad      2   \n",
      "1           1          Flat   6900000         E-11  Islamabad      3   \n",
      "2           2         House  16500000         G-15  Islamabad      6   \n",
      "3           3         House  43500000    Bani Gala  Islamabad      4   \n",
      "4           4         House   7000000  DHA Defence  Islamabad      3   \n",
      "\n",
      "    purpose  bedrooms  Area_in_Marla  \n",
      "0  For Sale         2            4.0  \n",
      "1  For Sale         3            5.6  \n",
      "2  For Sale         5            8.0  \n",
      "3  For Sale         4           40.0  \n",
      "4  For Sale         3            8.0  \n"
     ]
    }
   ],
   "source": [
    "print(df.head())"
   ]
  },
  {
   "cell_type": "code",
   "execution_count": 9,
   "id": "ef4d60a5-cd93-4f18-95e1-79e87e4d9103",
   "metadata": {},
   "outputs": [
    {
     "name": "stdout",
     "output_type": "stream",
     "text": [
      "Feature columns:\n",
      "Index(['Unnamed: 0', 'property_type', 'price', 'location', 'city', 'baths',\n",
      "       'purpose', 'bedrooms', 'Area_in_Marla'],\n",
      "      dtype='object')\n"
     ]
    }
   ],
   "source": [
    "print(\"Feature columns:\")\n",
    "print(df.columns)"
   ]
  },
  {
   "cell_type": "code",
   "execution_count": 10,
   "id": "43011c98-c2a4-4ad2-9d8c-33f43f836372",
   "metadata": {},
   "outputs": [],
   "source": [
    "df.columns = df.columns.str.strip().str.lower().str.replace(\" \", \"_\")"
   ]
  },
  {
   "cell_type": "code",
   "execution_count": 11,
   "id": "d2d6306c-a183-4dc1-a4cb-9b8e276d4acc",
   "metadata": {},
   "outputs": [],
   "source": [
    "df['area_sqft'] = df['area_in_marla'] * 272.25"
   ]
  },
  {
   "cell_type": "code",
   "execution_count": 16,
   "id": "6e643dec-e595-4e91-9532-c0ec410afd39",
   "metadata": {},
   "outputs": [],
   "source": [
    "features = ['area_sqft', 'bedrooms', 'baths']\n",
    "target = 'price'"
   ]
  },
  {
   "cell_type": "code",
   "execution_count": 17,
   "id": "d204e2ea-2ff7-4e94-ad91-5e787ce556d0",
   "metadata": {},
   "outputs": [],
   "source": [
    "df = df[features + [target]].dropna()"
   ]
  },
  {
   "cell_type": "code",
   "execution_count": 18,
   "id": "f13387c3-ebc2-4e00-aa26-d8238b791c4c",
   "metadata": {},
   "outputs": [],
   "source": [
    "X = df[features]\n",
    "y = df[target]"
   ]
  },
  {
   "cell_type": "code",
   "execution_count": 19,
   "id": "35214144-5e65-4e74-9e37-15bb8338d3a5",
   "metadata": {},
   "outputs": [],
   "source": [
    "scaler = StandardScaler()\n",
    "X_scaled = scaler.fit_transform(X)"
   ]
  },
  {
   "cell_type": "code",
   "execution_count": 20,
   "id": "04967082-325c-40e3-a007-e4131f18f849",
   "metadata": {},
   "outputs": [],
   "source": [
    "X_train, X_test, y_train, y_test = train_test_split(X_scaled, y, test_size=0.2, random_state=42)"
   ]
  },
  {
   "cell_type": "code",
   "execution_count": 22,
   "id": "4a06152d-ea97-4b94-b48a-8e9890337199",
   "metadata": {},
   "outputs": [
    {
     "ename": "NameError",
     "evalue": "name 'KNeighborsClassifier' is not defined",
     "output_type": "error",
     "traceback": [
      "\u001b[1;31m---------------------------------------------------------------------------\u001b[0m",
      "\u001b[1;31mNameError\u001b[0m                                 Traceback (most recent call last)",
      "Cell \u001b[1;32mIn[22], line 1\u001b[0m\n\u001b[1;32m----> 1\u001b[0m knn \u001b[38;5;241m=\u001b[39m KNeighborsClassifier(n_neighbors\u001b[38;5;241m=\u001b[39m\u001b[38;5;241m5\u001b[39m)\n\u001b[0;32m      2\u001b[0m knn\u001b[38;5;241m.\u001b[39mfit(X_train, y_train)\n",
      "\u001b[1;31mNameError\u001b[0m: name 'KNeighborsClassifier' is not defined"
     ]
    }
   ],
   "source": [
    "knn = KNeighborsClassifier(n_neighbors=5)\n",
    "knn.fit(X_train, y_train)"
   ]
  },
  {
   "cell_type": "code",
   "execution_count": null,
   "id": "a9a06c38-d894-4272-ab8a-2cf22d939c08",
   "metadata": {},
   "outputs": [],
   "source": []
  }
 ],
 "metadata": {
  "kernelspec": {
   "display_name": "Python 3 (ipykernel)",
   "language": "python",
   "name": "python3"
  },
  "language_info": {
   "codemirror_mode": {
    "name": "ipython",
    "version": 3
   },
   "file_extension": ".py",
   "mimetype": "text/x-python",
   "name": "python",
   "nbconvert_exporter": "python",
   "pygments_lexer": "ipython3",
   "version": "3.11.7"
  }
 },
 "nbformat": 4,
 "nbformat_minor": 5
}
